{
 "cells": [
  {
   "cell_type": "code",
   "execution_count": 1,
   "metadata": {},
   "outputs": [
    {
     "name": "stdout",
     "output_type": "stream",
     "text": [
      "Collecting beautifulsoup4\n",
      "  Using cached beautifulsoup4-4.11.1-py3-none-any.whl (128 kB)\n",
      "Collecting soupsieve>1.2\n",
      "  Using cached soupsieve-2.3.2.post1-py3-none-any.whl (37 kB)\n",
      "Installing collected packages: soupsieve, beautifulsoup4\n",
      "Successfully installed beautifulsoup4-4.11.1 soupsieve-2.3.2.post1\n"
     ]
    },
    {
     "name": "stderr",
     "output_type": "stream",
     "text": [
      "WARNING: There was an error checking the latest version of pip.\n"
     ]
    }
   ],
   "source": [
    "!pip install beautifulsoup4"
   ]
  },
  {
   "cell_type": "code",
   "execution_count": 2,
   "metadata": {
    "id": "CUMEstAh-kdI"
   },
   "outputs": [],
   "source": [
    "import requests\n",
    "from bs4 import BeautifulSoup as bs\n",
    "import re\n",
    "import pandas as pd"
   ]
  },
  {
   "cell_type": "code",
   "execution_count": 96,
   "metadata": {
    "id": "8acpgYGE-kdK"
   },
   "outputs": [],
   "source": [
    "# # url: https://imdb.to/3CzG7te\n",
    "\n",
    "# page = requests.get('https://imdb.to/3CzG7te')\n",
    "# soup = bs(page.content)"
   ]
  },
  {
   "cell_type": "code",
   "execution_count": 3,
   "metadata": {
    "id": "aVnTBl6PaN-V"
   },
   "outputs": [],
   "source": [
    "T1 = 1\n",
    "T2 = 5"
   ]
  },
  {
   "cell_type": "code",
   "execution_count": 4,
   "metadata": {
    "id": "a36_1ni0-kdK"
   },
   "outputs": [],
   "source": [
    "def get_info(sample):\n",
    "    if len(sample.find('h3').find('span').contents[0].split(','))>1:\n",
    "        number = int(float(sample.find('h3').find('span').contents[0].split(',')[0] + sample.find('h3').find('span').contents[0].split(',')[1]))\n",
    "    else:\n",
    "        number = int(float(sample.find('h3').find('span').contents[0]))\n",
    "    name = str(sample.find('h3').find('a').contents[0])\n",
    "    if sample.find('span', attrs={'class': 'runtime'}) is None:\n",
    "        time = None\n",
    "    else:\n",
    "        time = int(str(sample.find('span', attrs={'class': 'runtime'}).contents[0]).split()[0])\n",
    "    return number, name, time\n",
    "\n",
    "\n",
    "def create_dataframe(soup):\n",
    "    data = pd.DataFrame()\n",
    "    list = soup.findAll('div', attrs={'class': 'lister-item-content'})\n",
    "    number = []\n",
    "    movie = []\n",
    "    runtime = []\n",
    "    for s in list:\n",
    "        num, name, time = get_info(s)\n",
    "        # print(num)\n",
    "        number.append(num)\n",
    "        movie.append(name)\n",
    "        runtime.append(time)\n",
    "\n",
    "    data['number'] = number\n",
    "    data['movie'] = movie\n",
    "    data['runtime'] = runtime\n",
    "    return data\n",
    "\n"
   ]
  },
  {
   "cell_type": "code",
   "execution_count": 5,
   "metadata": {
    "id": "QW3gsj7y-kdM"
   },
   "outputs": [],
   "source": [
    "# # finding the next link\n",
    "# base = 'https://www.imdb.com'\n",
    "# added = str(soup.find('a', attrs={'class': 'lister-page-next next-page'})['href'])\n",
    "# next_link = base + added"
   ]
  },
  {
   "cell_type": "code",
   "execution_count": 6,
   "metadata": {
    "colab": {
     "base_uri": "https://localhost:8080/",
     "height": 36
    },
    "id": "xe-Xlc7C-kdN",
    "outputId": "5d8bd3e6-9544-43fd-d582-e9b55b31b585"
   },
   "outputs": [
    {
     "data": {
      "text/plain": [
       "'https://www.imdb.com/search/title/?release_date=2018-01-01,2018-12-31&sort=num_votes,desc&start=1000'"
      ]
     },
     "execution_count": 6,
     "metadata": {},
     "output_type": "execute_result"
    }
   ],
   "source": [
    "base = 'https://www.imdb.com/search/title/?release_date=2018-01-01,2018-12-31&sort=num_votes,desc&start='\n",
    "start = base + str(1000)\n",
    "start "
   ]
  },
  {
   "cell_type": "code",
   "execution_count": 7,
   "metadata": {
    "id": "ETQQJDTV-kdO"
   },
   "outputs": [],
   "source": [
    "T1 = 1\n",
    "T2 = 5\n",
    "complete_data = pd.DataFrame()\n",
    "url = base + str(T1)\n",
    "for i in range(T1, T2+1, 50):\n",
    "    r = requests.get(url)\n",
    "    soup = bs(r.content)\n",
    "    \n",
    "    data = create_dataframe(soup)\n",
    "    \n",
    "    url = base + str(i+50)\n",
    "    if i == 1000:\n",
    "        complete_data = data\n",
    "        continue \n",
    "    frames = [complete_data, data]\n",
    "    complete_data = pd.concat(frames)\n",
    "\n",
    "    \n",
    "    "
   ]
  },
  {
   "cell_type": "code",
   "execution_count": 8,
   "metadata": {
    "id": "SmpJUe9tWlQ3"
   },
   "outputs": [],
   "source": [
    "complete_data.set_index('number', inplace=True)"
   ]
  },
  {
   "cell_type": "code",
   "execution_count": 9,
   "metadata": {
    "colab": {
     "base_uri": "https://localhost:8080/",
     "height": 1000
    },
    "id": "2w1SjqJsZ7zf",
    "outputId": "ccc07596-d835-4484-9541-ac906c48954a"
   },
   "outputs": [
    {
     "data": {
      "text/html": [
       "<div>\n",
       "<style scoped>\n",
       "    .dataframe tbody tr th:only-of-type {\n",
       "        vertical-align: middle;\n",
       "    }\n",
       "\n",
       "    .dataframe tbody tr th {\n",
       "        vertical-align: top;\n",
       "    }\n",
       "\n",
       "    .dataframe thead th {\n",
       "        text-align: right;\n",
       "    }\n",
       "</style>\n",
       "<table border=\"1\" class=\"dataframe\">\n",
       "  <thead>\n",
       "    <tr style=\"text-align: right;\">\n",
       "      <th></th>\n",
       "      <th>movie</th>\n",
       "      <th>runtime</th>\n",
       "    </tr>\n",
       "    <tr>\n",
       "      <th>number</th>\n",
       "      <th></th>\n",
       "      <th></th>\n",
       "    </tr>\n",
       "  </thead>\n",
       "  <tbody>\n",
       "    <tr>\n",
       "      <th>1</th>\n",
       "      <td>Avengers: Infinity War</td>\n",
       "      <td>149</td>\n",
       "    </tr>\n",
       "    <tr>\n",
       "      <th>2</th>\n",
       "      <td>Black Panther</td>\n",
       "      <td>134</td>\n",
       "    </tr>\n",
       "    <tr>\n",
       "      <th>3</th>\n",
       "      <td>Deadpool 2</td>\n",
       "      <td>119</td>\n",
       "    </tr>\n",
       "    <tr>\n",
       "      <th>4</th>\n",
       "      <td>Bohemian Rhapsody</td>\n",
       "      <td>134</td>\n",
       "    </tr>\n",
       "    <tr>\n",
       "      <th>5</th>\n",
       "      <td>A Quiet Place</td>\n",
       "      <td>90</td>\n",
       "    </tr>\n",
       "    <tr>\n",
       "      <th>6</th>\n",
       "      <td>Spider-Man: Into the Spider-Verse</td>\n",
       "      <td>117</td>\n",
       "    </tr>\n",
       "    <tr>\n",
       "      <th>7</th>\n",
       "      <td>Green Book</td>\n",
       "      <td>130</td>\n",
       "    </tr>\n",
       "    <tr>\n",
       "      <th>8</th>\n",
       "      <td>Venom</td>\n",
       "      <td>112</td>\n",
       "    </tr>\n",
       "    <tr>\n",
       "      <th>9</th>\n",
       "      <td>Aquaman</td>\n",
       "      <td>143</td>\n",
       "    </tr>\n",
       "    <tr>\n",
       "      <th>10</th>\n",
       "      <td>Ready Player One</td>\n",
       "      <td>140</td>\n",
       "    </tr>\n",
       "    <tr>\n",
       "      <th>11</th>\n",
       "      <td>Ant-Man and the Wasp</td>\n",
       "      <td>118</td>\n",
       "    </tr>\n",
       "    <tr>\n",
       "      <th>12</th>\n",
       "      <td>A Star Is Born</td>\n",
       "      <td>136</td>\n",
       "    </tr>\n",
       "    <tr>\n",
       "      <th>13</th>\n",
       "      <td>Solo: A Star Wars Story</td>\n",
       "      <td>135</td>\n",
       "    </tr>\n",
       "    <tr>\n",
       "      <th>14</th>\n",
       "      <td>Bird Box</td>\n",
       "      <td>124</td>\n",
       "    </tr>\n",
       "    <tr>\n",
       "      <th>15</th>\n",
       "      <td>Mission: Impossible - Fallout</td>\n",
       "      <td>147</td>\n",
       "    </tr>\n",
       "    <tr>\n",
       "      <th>16</th>\n",
       "      <td>Annihilation</td>\n",
       "      <td>115</td>\n",
       "    </tr>\n",
       "    <tr>\n",
       "      <th>17</th>\n",
       "      <td>Jurassic World: Fallen Kingdom</td>\n",
       "      <td>128</td>\n",
       "    </tr>\n",
       "    <tr>\n",
       "      <th>18</th>\n",
       "      <td>Hereditary</td>\n",
       "      <td>127</td>\n",
       "    </tr>\n",
       "    <tr>\n",
       "      <th>19</th>\n",
       "      <td>Incredibles 2</td>\n",
       "      <td>118</td>\n",
       "    </tr>\n",
       "    <tr>\n",
       "      <th>20</th>\n",
       "      <td>Fantastic Beasts: The Crimes of Grindelwald</td>\n",
       "      <td>134</td>\n",
       "    </tr>\n",
       "    <tr>\n",
       "      <th>21</th>\n",
       "      <td>BlacKkKlansman</td>\n",
       "      <td>135</td>\n",
       "    </tr>\n",
       "    <tr>\n",
       "      <th>22</th>\n",
       "      <td>The Haunting of Hill House</td>\n",
       "      <td>572</td>\n",
       "    </tr>\n",
       "    <tr>\n",
       "      <th>23</th>\n",
       "      <td>You</td>\n",
       "      <td>45</td>\n",
       "    </tr>\n",
       "    <tr>\n",
       "      <th>24</th>\n",
       "      <td>Game Night</td>\n",
       "      <td>100</td>\n",
       "    </tr>\n",
       "    <tr>\n",
       "      <th>25</th>\n",
       "      <td>Ocean's Eight</td>\n",
       "      <td>110</td>\n",
       "    </tr>\n",
       "    <tr>\n",
       "      <th>26</th>\n",
       "      <td>Tomb Raider</td>\n",
       "      <td>119</td>\n",
       "    </tr>\n",
       "    <tr>\n",
       "      <th>27</th>\n",
       "      <td>The Favourite</td>\n",
       "      <td>119</td>\n",
       "    </tr>\n",
       "    <tr>\n",
       "      <th>28</th>\n",
       "      <td>First Man</td>\n",
       "      <td>141</td>\n",
       "    </tr>\n",
       "    <tr>\n",
       "      <th>29</th>\n",
       "      <td>Red Sparrow</td>\n",
       "      <td>140</td>\n",
       "    </tr>\n",
       "    <tr>\n",
       "      <th>30</th>\n",
       "      <td>Upgrade</td>\n",
       "      <td>100</td>\n",
       "    </tr>\n",
       "    <tr>\n",
       "      <th>31</th>\n",
       "      <td>Cobra Kai</td>\n",
       "      <td>30</td>\n",
       "    </tr>\n",
       "    <tr>\n",
       "      <th>32</th>\n",
       "      <td>Crazy Rich Asians</td>\n",
       "      <td>120</td>\n",
       "    </tr>\n",
       "    <tr>\n",
       "      <th>33</th>\n",
       "      <td>The Meg</td>\n",
       "      <td>113</td>\n",
       "    </tr>\n",
       "    <tr>\n",
       "      <th>34</th>\n",
       "      <td>Altered Carbon</td>\n",
       "      <td>60</td>\n",
       "    </tr>\n",
       "    <tr>\n",
       "      <th>35</th>\n",
       "      <td>Isle of Dogs</td>\n",
       "      <td>101</td>\n",
       "    </tr>\n",
       "    <tr>\n",
       "      <th>36</th>\n",
       "      <td>Rampage</td>\n",
       "      <td>107</td>\n",
       "    </tr>\n",
       "    <tr>\n",
       "      <th>37</th>\n",
       "      <td>Bumblebee</td>\n",
       "      <td>114</td>\n",
       "    </tr>\n",
       "    <tr>\n",
       "      <th>38</th>\n",
       "      <td>Searching</td>\n",
       "      <td>102</td>\n",
       "    </tr>\n",
       "    <tr>\n",
       "      <th>39</th>\n",
       "      <td>Ralph Breaks the Internet</td>\n",
       "      <td>112</td>\n",
       "    </tr>\n",
       "    <tr>\n",
       "      <th>40</th>\n",
       "      <td>The Equalizer 2</td>\n",
       "      <td>121</td>\n",
       "    </tr>\n",
       "    <tr>\n",
       "      <th>41</th>\n",
       "      <td>Roma</td>\n",
       "      <td>135</td>\n",
       "    </tr>\n",
       "    <tr>\n",
       "      <th>42</th>\n",
       "      <td>Halloween</td>\n",
       "      <td>106</td>\n",
       "    </tr>\n",
       "    <tr>\n",
       "      <th>43</th>\n",
       "      <td>Bad Times at the El Royale</td>\n",
       "      <td>141</td>\n",
       "    </tr>\n",
       "    <tr>\n",
       "      <th>44</th>\n",
       "      <td>A Simple Favor</td>\n",
       "      <td>117</td>\n",
       "    </tr>\n",
       "    <tr>\n",
       "      <th>45</th>\n",
       "      <td>Sicario: Day of the Soldado</td>\n",
       "      <td>122</td>\n",
       "    </tr>\n",
       "    <tr>\n",
       "      <th>46</th>\n",
       "      <td>The Ballad of Buster Scruggs</td>\n",
       "      <td>133</td>\n",
       "    </tr>\n",
       "    <tr>\n",
       "      <th>47</th>\n",
       "      <td>Vice</td>\n",
       "      <td>132</td>\n",
       "    </tr>\n",
       "    <tr>\n",
       "      <th>48</th>\n",
       "      <td>Succession</td>\n",
       "      <td>60</td>\n",
       "    </tr>\n",
       "    <tr>\n",
       "      <th>49</th>\n",
       "      <td>The Nun</td>\n",
       "      <td>96</td>\n",
       "    </tr>\n",
       "    <tr>\n",
       "      <th>50</th>\n",
       "      <td>Maze Runner: The Death Cure</td>\n",
       "      <td>143</td>\n",
       "    </tr>\n",
       "  </tbody>\n",
       "</table>\n",
       "</div>"
      ],
      "text/plain": [
       "                                              movie  runtime\n",
       "number                                                      \n",
       "1                            Avengers: Infinity War      149\n",
       "2                                     Black Panther      134\n",
       "3                                        Deadpool 2      119\n",
       "4                                 Bohemian Rhapsody      134\n",
       "5                                     A Quiet Place       90\n",
       "6                 Spider-Man: Into the Spider-Verse      117\n",
       "7                                        Green Book      130\n",
       "8                                             Venom      112\n",
       "9                                           Aquaman      143\n",
       "10                                 Ready Player One      140\n",
       "11                             Ant-Man and the Wasp      118\n",
       "12                                   A Star Is Born      136\n",
       "13                          Solo: A Star Wars Story      135\n",
       "14                                         Bird Box      124\n",
       "15                    Mission: Impossible - Fallout      147\n",
       "16                                     Annihilation      115\n",
       "17                   Jurassic World: Fallen Kingdom      128\n",
       "18                                       Hereditary      127\n",
       "19                                    Incredibles 2      118\n",
       "20      Fantastic Beasts: The Crimes of Grindelwald      134\n",
       "21                                   BlacKkKlansman      135\n",
       "22                       The Haunting of Hill House      572\n",
       "23                                              You       45\n",
       "24                                       Game Night      100\n",
       "25                                    Ocean's Eight      110\n",
       "26                                      Tomb Raider      119\n",
       "27                                    The Favourite      119\n",
       "28                                        First Man      141\n",
       "29                                      Red Sparrow      140\n",
       "30                                          Upgrade      100\n",
       "31                                        Cobra Kai       30\n",
       "32                                Crazy Rich Asians      120\n",
       "33                                          The Meg      113\n",
       "34                                   Altered Carbon       60\n",
       "35                                     Isle of Dogs      101\n",
       "36                                          Rampage      107\n",
       "37                                        Bumblebee      114\n",
       "38                                        Searching      102\n",
       "39                        Ralph Breaks the Internet      112\n",
       "40                                  The Equalizer 2      121\n",
       "41                                             Roma      135\n",
       "42                                        Halloween      106\n",
       "43                       Bad Times at the El Royale      141\n",
       "44                                   A Simple Favor      117\n",
       "45                      Sicario: Day of the Soldado      122\n",
       "46                     The Ballad of Buster Scruggs      133\n",
       "47                                             Vice      132\n",
       "48                                       Succession       60\n",
       "49                                          The Nun       96\n",
       "50                      Maze Runner: The Death Cure      143"
      ]
     },
     "execution_count": 9,
     "metadata": {},
     "output_type": "execute_result"
    }
   ],
   "source": [
    "complete_data"
   ]
  },
  {
   "cell_type": "code",
   "execution_count": 10,
   "metadata": {
    "colab": {
     "base_uri": "https://localhost:8080/",
     "height": 237
    },
    "id": "qou-yiK_WSus",
    "outputId": "cdcb5ef6-8608-4d4b-ae81-98d99dbd286e"
   },
   "outputs": [
    {
     "data": {
      "text/html": [
       "<div>\n",
       "<style scoped>\n",
       "    .dataframe tbody tr th:only-of-type {\n",
       "        vertical-align: middle;\n",
       "    }\n",
       "\n",
       "    .dataframe tbody tr th {\n",
       "        vertical-align: top;\n",
       "    }\n",
       "\n",
       "    .dataframe thead th {\n",
       "        text-align: right;\n",
       "    }\n",
       "</style>\n",
       "<table border=\"1\" class=\"dataframe\">\n",
       "  <thead>\n",
       "    <tr style=\"text-align: right;\">\n",
       "      <th></th>\n",
       "      <th>movie</th>\n",
       "      <th>runtime</th>\n",
       "    </tr>\n",
       "    <tr>\n",
       "      <th>number</th>\n",
       "      <th></th>\n",
       "      <th></th>\n",
       "    </tr>\n",
       "  </thead>\n",
       "  <tbody>\n",
       "    <tr>\n",
       "      <th>1</th>\n",
       "      <td>Avengers: Infinity War</td>\n",
       "      <td>149</td>\n",
       "    </tr>\n",
       "    <tr>\n",
       "      <th>2</th>\n",
       "      <td>Black Panther</td>\n",
       "      <td>134</td>\n",
       "    </tr>\n",
       "    <tr>\n",
       "      <th>3</th>\n",
       "      <td>Deadpool 2</td>\n",
       "      <td>119</td>\n",
       "    </tr>\n",
       "    <tr>\n",
       "      <th>4</th>\n",
       "      <td>Bohemian Rhapsody</td>\n",
       "      <td>134</td>\n",
       "    </tr>\n",
       "    <tr>\n",
       "      <th>5</th>\n",
       "      <td>A Quiet Place</td>\n",
       "      <td>90</td>\n",
       "    </tr>\n",
       "  </tbody>\n",
       "</table>\n",
       "</div>"
      ],
      "text/plain": [
       "                         movie  runtime\n",
       "number                                 \n",
       "1       Avengers: Infinity War      149\n",
       "2                Black Panther      134\n",
       "3                   Deadpool 2      119\n",
       "4            Bohemian Rhapsody      134\n",
       "5                A Quiet Place       90"
      ]
     },
     "execution_count": 10,
     "metadata": {},
     "output_type": "execute_result"
    }
   ],
   "source": [
    "final_dataset = complete_data[complete_data.index <=T2]\n",
    "final_dataset"
   ]
  },
  {
   "cell_type": "code",
   "execution_count": 11,
   "metadata": {
    "id": "n3_CLKc_-kdQ"
   },
   "outputs": [],
   "source": [
    "output = final_dataset[final_dataset.runtime == max(final_dataset.runtime)]\n",
    "\n"
   ]
  },
  {
   "cell_type": "code",
   "execution_count": 12,
   "metadata": {
    "colab": {
     "base_uri": "https://localhost:8080/"
    },
    "id": "bKXVX5giXvrt",
    "outputId": "7fd477de-175c-49a4-c800-c57158e7bbcb"
   },
   "outputs": [
    {
     "name": "stdout",
     "output_type": "stream",
     "text": [
      "Avengers: Infinity War  149\n"
     ]
    }
   ],
   "source": [
    "print(str(output['movie'].values[0]) + \"  \" + str(output['runtime'].values[0]))"
   ]
  },
  {
   "cell_type": "code",
   "execution_count": null,
   "metadata": {
    "id": "pJkaGhwrYaHx"
   },
   "outputs": [],
   "source": []
  }
 ],
 "metadata": {
  "colab": {
   "collapsed_sections": [],
   "provenance": []
  },
  "kernelspec": {
   "display_name": "Python 3 (ipykernel)",
   "language": "python",
   "name": "python3"
  },
  "language_info": {
   "codemirror_mode": {
    "name": "ipython",
    "version": 3
   },
   "file_extension": ".py",
   "mimetype": "text/x-python",
   "name": "python",
   "nbconvert_exporter": "python",
   "pygments_lexer": "ipython3",
   "version": "3.8.12"
  },
  "vscode": {
   "interpreter": {
    "hash": "781b2202c907e063a8b6a906dab9615d436d0f0d632ca1eedc0000b005ac7279"
   }
  }
 },
 "nbformat": 4,
 "nbformat_minor": 4
}
