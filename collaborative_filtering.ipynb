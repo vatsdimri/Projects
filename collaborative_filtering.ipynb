{
 "cells": [
  {
   "cell_type": "markdown",
   "metadata": {
    "id": "GMM9RXkYAFp6"
   },
   "source": [
    "# Solving the given problem with collaborative filtering"
   ]
  },
  {
   "cell_type": "code",
   "execution_count": 1,
   "metadata": {
    "id": "HLj0oWtoAQVY"
   },
   "outputs": [],
   "source": [
    "import numpy as np\n",
    "import pandas as pd"
   ]
  },
  {
   "cell_type": "code",
   "execution_count": 3,
   "metadata": {},
   "outputs": [
    {
     "name": "stdout",
     "output_type": "stream",
     "text": [
      "Requirement already satisfied: scikit-surprise in c:\\users\\vatdi\\appdata\\local\\packages\\pythonsoftwarefoundation.python.3.9_qbz5n2kfra8p0\\localcache\\local-packages\\python39\\site-packages (1.1.1)\n",
      "Requirement already satisfied: joblib>=0.11 in c:\\users\\vatdi\\appdata\\local\\packages\\pythonsoftwarefoundation.python.3.9_qbz5n2kfra8p0\\localcache\\local-packages\\python39\\site-packages (from scikit-surprise) (1.1.0)\n",
      "Requirement already satisfied: six>=1.10.0 in c:\\users\\vatdi\\appdata\\local\\packages\\pythonsoftwarefoundation.python.3.9_qbz5n2kfra8p0\\localcache\\local-packages\\python39\\site-packages (from scikit-surprise) (1.16.0)\n",
      "Requirement already satisfied: scipy>=1.0.0 in c:\\users\\vatdi\\appdata\\local\\packages\\pythonsoftwarefoundation.python.3.9_qbz5n2kfra8p0\\localcache\\local-packages\\python39\\site-packages (from scikit-surprise) (1.7.1)\n",
      "Requirement already satisfied: numpy>=1.11.2 in c:\\users\\vatdi\\appdata\\local\\packages\\pythonsoftwarefoundation.python.3.9_qbz5n2kfra8p0\\localcache\\local-packages\\python39\\site-packages (from scikit-surprise) (1.21.3)\n"
     ]
    },
    {
     "name": "stderr",
     "output_type": "stream",
     "text": [
      "\n",
      "[notice] A new release of pip available: 22.3 -> 22.3.1\n",
      "[notice] To update, run: C:\\Users\\vatdi\\AppData\\Local\\Microsoft\\WindowsApps\\PythonSoftwareFoundation.Python.3.9_qbz5n2kfra8p0\\python.exe -m pip install --upgrade pip\n"
     ]
    }
   ],
   "source": [
    "!pip install scikit-surprise\n",
    "\n",
    "from surprise import Dataset\n",
    "from surprise import Reader"
   ]
  },
  {
   "cell_type": "markdown",
   "metadata": {
    "id": "QShMCLkbAkXT"
   },
   "source": [
    "# Importing the data"
   ]
  },
  {
   "cell_type": "code",
   "execution_count": 4,
   "metadata": {
    "colab": {
     "base_uri": "https://localhost:8080/",
     "height": 206
    },
    "id": "UwU6AAqGAjoX",
    "outputId": "43b16ff9-2c3f-451d-9ae1-49b4ab0cce18"
   },
   "outputs": [],
   "source": [
    "train_data = pd.read_csv('train_0OECtn8.csv')\n",
    "test_data = pd.read_csv('test_1zqHu22.csv')\n"
   ]
  },
  {
   "cell_type": "markdown",
   "metadata": {},
   "source": [
    "# pre processing"
   ]
  },
  {
   "cell_type": "code",
   "execution_count": 5,
   "metadata": {
    "colab": {
     "base_uri": "https://localhost:8080/",
     "height": 206
    },
    "id": "OpuX3uKboest",
    "outputId": "8c5b36fc-6846-4e8a-a042-b600cc289e66"
   },
   "outputs": [],
   "source": [
    "feature = ['user_id', 'video_id', 'engagement_score']\n",
    "X = train_data[feature]"
   ]
  },
  {
   "cell_type": "code",
   "execution_count": 6,
   "metadata": {
    "colab": {
     "base_uri": "https://localhost:8080/"
    },
    "id": "LqZQ_jYIo_Dd",
    "outputId": "62bf61d6-dfbd-43cc-b377-fff24bda726e"
   },
   "outputs": [],
   "source": [
    "reader = Reader(rating_scale=(1,5))\n",
    "data = Dataset.load_from_df(X, reader)"
   ]
  },
  {
   "cell_type": "code",
   "execution_count": 7,
   "metadata": {
    "id": "VXxLxzmCxQB-"
   },
   "outputs": [],
   "source": [
    "trainingSet = data.build_full_trainset()"
   ]
  },
  {
   "cell_type": "markdown",
   "metadata": {
    "id": "c7AqiVsRt4mU"
   },
   "source": [
    "# KNN inspired algo\n",
    "\n",
    "This function predicts the engagement score and store that in the form of csv file in \"prediction.csv\""
   ]
  },
  {
   "cell_type": "code",
   "execution_count": 8,
   "metadata": {
    "id": "rJgHCnM935uj"
   },
   "outputs": [],
   "source": [
    "def predictor(algo, data):\n",
    "    feature = ['user_id', 'video_id']\n",
    "    X_test = test_data[feature]\n",
    "    length = len(X_test.user_id)\n",
    "    prediction = [algo.predict(X_test.iloc[i, 0], X_test.iloc[i, 1]).est for i in range(length)]\n",
    "    test_data['engagement_score'] = prediction\n",
    "    test_data.set_index('row_id', inplace=True)\n",
    "    pred = test_data['engagement_score']\n",
    "    pred.to_csv('prediction.csv')"
   ]
  },
  {
   "cell_type": "code",
   "execution_count": 9,
   "metadata": {
    "colab": {
     "base_uri": "https://localhost:8080/"
    },
    "id": "YEDVnPjFpYin",
    "outputId": "51ed337a-b092-4a2a-eb2f-52cb14e64cee"
   },
   "outputs": [
    {
     "name": "stdout",
     "output_type": "stream",
     "text": [
      "Computing the msd similarity matrix...\n",
      "Done computing similarity matrix.\n"
     ]
    }
   ],
   "source": [
    "from surprise import KNNWithMeans\n",
    "from surprise.model_selection import GridSearchCV\n",
    "sim_options ={\n",
    "    \"name\": 'msd',\n",
    "    'min_support': 4,\n",
    "    \"user_based\": False, # there are two options user based and item based\n",
    "    # but True value need too much ram space to work, it keeps crashing without output\n",
    "}\n",
    "algo = KNNWithMeans(sim_options=sim_options)\n",
    "trainingSet = data.build_full_trainset()\n",
    "algo.fit(trainingSet)\n",
    "predictor(algo, test_data)"
   ]
  }
 ],
 "metadata": {
  "colab": {
   "collapsed_sections": [],
   "name": "collaborative_filtering.ipynb",
   "provenance": []
  },
  "kernelspec": {
   "display_name": "Python 3.9.13 64-bit (microsoft store)",
   "language": "python",
   "name": "python3"
  },
  "language_info": {
   "codemirror_mode": {
    "name": "ipython",
    "version": 3
   },
   "file_extension": ".py",
   "mimetype": "text/x-python",
   "name": "python",
   "nbconvert_exporter": "python",
   "pygments_lexer": "ipython3",
   "version": "3.9.13"
  },
  "vscode": {
   "interpreter": {
    "hash": "781b2202c907e063a8b6a906dab9615d436d0f0d632ca1eedc0000b005ac7279"
   }
  }
 },
 "nbformat": 4,
 "nbformat_minor": 4
}
